{
  "nbformat": 4,
  "nbformat_minor": 0,
  "metadata": {
    "colab": {
      "provenance": []
    },
    "kernelspec": {
      "name": "python3",
      "display_name": "Python 3"
    },
    "language_info": {
      "name": "python"
    }
  },
  "cells": [
    {
      "cell_type": "code",
      "source": [
        "import pandas as pd\n",
        "from sklearn.model_selection import train_test_split\n",
        "from sklearn.feature_extraction.text import TfidfVectorizer\n",
        "from sklearn.linear_model import LogisticRegression\n",
        "\n",
        "# Sample news data\n",
        "texts = [\n",
        "    \"The government passed a new policy today.\",\n",
        "    \"The football match ended with a thrilling goal.\",\n",
        "    \"Stock market shows positive growth this quarter.\",\n",
        "    \"Elections are scheduled for next month.\",\n",
        "    \"The player broke the world record in sprinting.\",\n",
        "    \"The bank raised interest rates due to inflation.\"\n",
        "]\n",
        "\n",
        "labels = [\n",
        "    \"politics\",\n",
        "    \"sports\",\n",
        "    \"business\",\n",
        "    \"politics\",\n",
        "    \"sports\",\n",
        "    \"business\"\n",
        "]\n",
        "\n",
        "# Create DataFrame\n",
        "df = pd.DataFrame({'text': texts, 'label': labels})\n",
        "\n",
        "# Split dataset\n",
        "X_train, X_test, y_train, y_test = train_test_split(df['text'], df['label'], test_size=0.3, random_state=42)\n",
        "\n",
        "# TF-IDF Vectorizer\n",
        "vectorizer = TfidfVectorizer()\n",
        "X_train_tfidf = vectorizer.fit_transform(X_train)\n",
        "X_test_tfidf = vectorizer.transform(X_test)\n",
        "\n",
        "# Train classifier\n",
        "model = LogisticRegression()\n",
        "model.fit(X_train_tfidf, y_train)\n",
        "\n",
        "# Predict on new input\n",
        "def predict_category(text):\n",
        "    text_tfidf = vectorizer.transform([text])\n",
        "    prediction = model.predict(text_tfidf)\n",
        "    print(f\"Predicted Category: {prediction[0]}\")\n",
        "\n",
        "# Try with a new example\n",
        "predict_category(\"The budget was presented in the parliament today.\")"
      ],
      "metadata": {
        "colab": {
          "base_uri": "https://localhost:8080/"
        },
        "id": "cDkyWNVmdsuK",
        "outputId": "30ff2ac3-ff06-46f4-ed04-790dc85a3fb5"
      },
      "execution_count": 2,
      "outputs": [
        {
          "output_type": "stream",
          "name": "stdout",
          "text": [
            "Predicted Category: business\n"
          ]
        }
      ]
    }
  ]
}